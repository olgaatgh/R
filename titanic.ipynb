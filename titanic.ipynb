{
 "cells": [
  {
   "cell_type": "markdown",
   "metadata": {},
   "source": [
    "# Famous Titanic dataset from Kaggle competition\n",
    "* This is a fun afternoon project I ddid in R to learn the tool.\n",
    "I wanted to see how effective/easy data manipulation in R is, and also how well I can do with out of the box ML library caret. \n",
    "\n",
    "* Introduction:\n",
    "Women made a majority of Titanic survivers.And among women the young girls from the first class cabins had the best chance. \n",
    "It seems reasonable: people were invited to the safe boats based on their tickets, starting with first class passengers and also following the rule \"Women and children first\". However, by English tradition, 8 year old boys were not considered children, but rather young men, and that is why a lot of boys were denid the seats on the boats. \n",
    "\n",
    "* I wanted to see for myself if the data provides an evidence to this and also if I can find some other interesting correlations."
   ]
  },
  {
   "cell_type": "code",
   "execution_count": 1,
   "metadata": {},
   "outputs": [
    {
     "name": "stderr",
     "output_type": "stream",
     "text": [
      "\n",
      "Attaching package: 'dplyr'\n",
      "\n",
      "The following objects are masked from 'package:stats':\n",
      "\n",
      "    filter, lag\n",
      "\n",
      "The following objects are masked from 'package:base':\n",
      "\n",
      "    intersect, setdiff, setequal, union\n",
      "\n",
      "randomForest 4.6-12\n",
      "Type rfNews() to see new features/changes/bug fixes.\n",
      "\n",
      "Attaching package: 'randomForest'\n",
      "\n",
      "The following object is masked from 'package:dplyr':\n",
      "\n",
      "    combine\n",
      "\n",
      "The following object is masked from 'package:ggplot2':\n",
      "\n",
      "    margin\n",
      "\n",
      "Loading required package: lattice\n",
      "\n",
      "Attaching package: 'kernlab'\n",
      "\n",
      "The following object is masked from 'package:scales':\n",
      "\n",
      "    alpha\n",
      "\n",
      "The following object is masked from 'package:ggplot2':\n",
      "\n",
      "    alpha\n",
      "\n",
      "Warning message:\n",
      "\"package 'e1071' was built under R version 3.3.3\""
     ]
    }
   ],
   "source": [
    "# Load packages\n",
    "library(ggplot2) # visualization\n",
    "library(scales) # visualization\n",
    "library(dplyr) # data manipulation\n",
    "library(randomForest) # classification algorithm\n",
    "\n",
    "library(caret) #ML library\n",
    "library(kernlab)\n",
    "library(e1071)\n"
   ]
  },
  {
   "cell_type": "code",
   "execution_count": 2,
   "metadata": {},
   "outputs": [
    {
     "name": "stdout",
     "output_type": "stream",
     "text": [
      "'data.frame':\t1309 obs. of  12 variables:\n",
      " $ PassengerId: int  1 2 3 4 5 6 7 8 9 10 ...\n",
      " $ Survived   : int  0 1 1 1 0 0 0 0 1 1 ...\n",
      " $ Pclass     : int  3 1 3 1 3 3 1 3 3 2 ...\n",
      " $ Name       : chr  \"Braund, Mr. Owen Harris\" \"Cumings, Mrs. John Bradley (Florence Briggs Thayer)\" \"Heikkinen, Miss. Laina\" \"Futrelle, Mrs. Jacques Heath (Lily May Peel)\" ...\n",
      " $ Sex        : chr  \"male\" \"female\" \"female\" \"female\" ...\n",
      " $ Age        : num  22 38 26 35 35 NA 54 2 27 14 ...\n",
      " $ SibSp      : int  1 1 0 1 0 0 0 3 0 1 ...\n",
      " $ Parch      : int  0 0 0 0 0 0 0 1 2 0 ...\n",
      " $ Ticket     : chr  \"A/5 21171\" \"PC 17599\" \"STON/O2. 3101282\" \"113803\" ...\n",
      " $ Fare       : num  7.25 71.28 7.92 53.1 8.05 ...\n",
      " $ Cabin      : chr  \"\" \"C85\" \"\" \"C123\" ...\n",
      " $ Embarked   : chr  \"S\" \"C\" \"S\" \"S\" ...\n"
     ]
    }
   ],
   "source": [
    "#loading data\n",
    "\n",
    "train <- read.csv('input/train.csv', stringsAsFactors = F)\n",
    "test  <- read.csv('input/test.csv', stringsAsFactors = F)\n",
    "full  <- bind_rows(train, test) # bind training & test data\n",
    "str(full)"
   ]
  },
  {
   "cell_type": "markdown",
   "metadata": {},
   "source": [
    "* The data contains infromation on passangers traveling with either children or parents or both (Parch) and if a passenger had a spouse or siblings (SibSp). It makes sense to use this data to generate 3 additional columns: Married_no_children, Single, and Family (one child or more) to see who had a better chance to survive."
   ]
  },
  {
   "cell_type": "code",
   "execution_count": 3,
   "metadata": {
    "collapsed": true
   },
   "outputs": [],
   "source": [
    "full$Single <- ifelse((full$SibSp < 1 & full$Parch < 1), 1, 0)\n",
    "full$Married_no_children <- ifelse((full$SibSp ==1 & full$Parch == 0), 1, 0)\n",
    "full$Family <- ifelse((full$SibSp >1 & full$Single == 0 & full$Married_no_children == 0), 1, 0)"
   ]
  },
  {
   "cell_type": "code",
   "execution_count": 4,
   "metadata": {},
   "outputs": [
    {
     "data": {
      "text/html": [
       "<ol class=list-inline>\n",
       "\t<li>'PassengerId'</li>\n",
       "\t<li>'Survived'</li>\n",
       "\t<li>'Pclass'</li>\n",
       "\t<li>'Name'</li>\n",
       "\t<li>'Sex'</li>\n",
       "\t<li>'Age'</li>\n",
       "\t<li>'SibSp'</li>\n",
       "\t<li>'Parch'</li>\n",
       "\t<li>'Ticket'</li>\n",
       "\t<li>'Fare'</li>\n",
       "\t<li>'Cabin'</li>\n",
       "\t<li>'Embarked'</li>\n",
       "\t<li>'Single'</li>\n",
       "\t<li>'Married_no_children'</li>\n",
       "\t<li>'Family'</li>\n",
       "</ol>\n"
      ],
      "text/latex": [
       "\\begin{enumerate*}\n",
       "\\item 'PassengerId'\n",
       "\\item 'Survived'\n",
       "\\item 'Pclass'\n",
       "\\item 'Name'\n",
       "\\item 'Sex'\n",
       "\\item 'Age'\n",
       "\\item 'SibSp'\n",
       "\\item 'Parch'\n",
       "\\item 'Ticket'\n",
       "\\item 'Fare'\n",
       "\\item 'Cabin'\n",
       "\\item 'Embarked'\n",
       "\\item 'Single'\n",
       "\\item 'Married\\_no\\_children'\n",
       "\\item 'Family'\n",
       "\\end{enumerate*}\n"
      ],
      "text/markdown": [
       "1. 'PassengerId'\n",
       "2. 'Survived'\n",
       "3. 'Pclass'\n",
       "4. 'Name'\n",
       "5. 'Sex'\n",
       "6. 'Age'\n",
       "7. 'SibSp'\n",
       "8. 'Parch'\n",
       "9. 'Ticket'\n",
       "10. 'Fare'\n",
       "11. 'Cabin'\n",
       "12. 'Embarked'\n",
       "13. 'Single'\n",
       "14. 'Married_no_children'\n",
       "15. 'Family'\n",
       "\n",
       "\n"
      ],
      "text/plain": [
       " [1] \"PassengerId\"         \"Survived\"            \"Pclass\"             \n",
       " [4] \"Name\"                \"Sex\"                 \"Age\"                \n",
       " [7] \"SibSp\"               \"Parch\"               \"Ticket\"             \n",
       "[10] \"Fare\"                \"Cabin\"               \"Embarked\"           \n",
       "[13] \"Single\"              \"Married_no_children\" \"Family\"             "
      ]
     },
     "metadata": {},
     "output_type": "display_data"
    }
   ],
   "source": [
    "names(full)"
   ]
  },
  {
   "cell_type": "markdown",
   "metadata": {},
   "source": [
    "* Variables Sex, Pclass and Survived should be factor variables. It may be not so obvious for Pclass, but if you think about it... Class 3 is not \"better\" or \"larger\" than Class 1. They should be equally weighted by the algorithm. So, I am going to use one hot encoding on full dataset, to make additional columns Sexmale and Sexfemale, Pclass1, Pclass2, Pclass3. I am leaving the factor variable Sex and Pclass to simplify the EDA portion of my studdy (specifically visualisation). \n",
    "\n",
    "* Factorizing Survived and SibSp\n",
    "\n",
    "* At this point I also decide to trim my parameter space. I strip it from Ticket, Embarked, Cabin, Name. Keeping the variables: PassengerId, Survived, Pclass, Sex, Age, SibSp, Parch, Fare, Single, Married_no_children, Family"
   ]
  },
  {
   "cell_type": "code",
   "execution_count": 5,
   "metadata": {},
   "outputs": [
    {
     "name": "stdout",
     "output_type": "stream",
     "text": [
      "'data.frame':\t1309 obs. of  16 variables:\n",
      " $ PassengerId        : int  1 2 3 4 5 6 7 8 9 10 ...\n",
      " $ Survived           : Factor w/ 2 levels \"0\",\"1\": 1 2 2 2 1 1 1 1 2 2 ...\n",
      " $ Pclass             : Factor w/ 3 levels \"1\",\"2\",\"3\": 3 1 3 1 3 3 1 3 3 2 ...\n",
      " $ Pclass1            : num  0 1 0 1 0 0 1 0 0 0 ...\n",
      " $ Pclass2            : num  0 0 0 0 0 0 0 0 0 1 ...\n",
      " $ Pclass3            : num  1 0 1 0 1 1 0 1 1 0 ...\n",
      " $ Sex                : Factor w/ 2 levels \"female\",\"male\": 2 1 1 1 2 2 2 2 1 1 ...\n",
      " $ Sexmale            : num  1 0 0 0 1 1 1 1 0 0 ...\n",
      " $ Sexfemale          : num  0 1 1 1 0 0 0 0 1 1 ...\n",
      " $ Age                : num  22 38 26 35 35 NA 54 2 27 14 ...\n",
      " $ SibSp              : Factor w/ 7 levels \"0\",\"1\",\"2\",\"3\",..: 2 2 1 2 1 1 1 4 1 2 ...\n",
      " $ Parch              : int  0 0 0 0 0 0 0 1 2 0 ...\n",
      " $ Single             : num  0 0 1 0 1 1 1 0 0 0 ...\n",
      " $ Married_no_children: num  1 1 0 1 0 0 0 0 0 1 ...\n",
      " $ Fare               : num  7.25 71.28 7.92 53.1 8.05 ...\n",
      " $ Family             : num  0 0 0 0 0 0 0 1 0 0 ...\n"
     ]
    }
   ],
   "source": [
    "full<-with(full,data.frame(PassengerId, Survived, Pclass, Sex, model.matrix(~Sex-1,full),\n",
    "                  Age, SibSp, Parch, Single, Married_no_children, Fare, Family))\n",
    "\n",
    "full$Pclass <-factor(full$Pclass)\n",
    "full<-with(full,data.frame(PassengerId, Survived, Pclass, model.matrix(~Pclass-1,full),\n",
    "                  Sex, Sexmale, Sexfemale, Age, SibSp, Parch, Single, Married_no_children, Fare, Family))\n",
    "\n",
    "full$Survived <- factor(full$Survived)\n",
    "full$SibSp <- factor(full$SibSp)\n",
    "\n",
    "str(full)"
   ]
  },
  {
   "cell_type": "code",
   "execution_count": 6,
   "metadata": {},
   "outputs": [
    {
     "data": {
      "text/html": [
       "891"
      ],
      "text/latex": [
       "891"
      ],
      "text/markdown": [
       "891"
      ],
      "text/plain": [
       "[1] 891"
      ]
     },
     "metadata": {},
     "output_type": "display_data"
    },
    {
     "data": {
      "text/html": [
       "418"
      ],
      "text/latex": [
       "418"
      ],
      "text/markdown": [
       "418"
      ],
      "text/plain": [
       "[1] 418"
      ]
     },
     "metadata": {},
     "output_type": "display_data"
    },
    {
     "data": {
      "text/html": [
       "TRUE"
      ],
      "text/latex": [
       "TRUE"
      ],
      "text/markdown": [
       "TRUE"
      ],
      "text/plain": [
       "[1] TRUE"
      ]
     },
     "metadata": {},
     "output_type": "display_data"
    }
   ],
   "source": [
    "length(unique(train$PassengerId))\n",
    "length(unique(test$PassengerId))\n",
    "(length(unique(train$PassengerId)) + length(unique(test$PassengerId))) == length(unique(full$PassengerId))"
   ]
  },
  {
   "cell_type": "markdown",
   "metadata": {},
   "source": [
    "I will take 100 data points from train set to make it my validation set to run ML"
   ]
  },
  {
   "cell_type": "code",
   "execution_count": 7,
   "metadata": {},
   "outputs": [
    {
     "data": {
      "text/html": [
       "791"
      ],
      "text/latex": [
       "791"
      ],
      "text/markdown": [
       "791"
      ],
      "text/plain": [
       "[1] 791"
      ]
     },
     "metadata": {},
     "output_type": "display_data"
    },
    {
     "data": {
      "text/html": [
       "418"
      ],
      "text/latex": [
       "418"
      ],
      "text/markdown": [
       "418"
      ],
      "text/plain": [
       "[1] 418"
      ]
     },
     "metadata": {},
     "output_type": "display_data"
    },
    {
     "data": {
      "text/html": [
       "100"
      ],
      "text/latex": [
       "100"
      ],
      "text/markdown": [
       "100"
      ],
      "text/plain": [
       "[1] 100"
      ]
     },
     "metadata": {},
     "output_type": "display_data"
    },
    {
     "data": {
      "text/html": [
       "1309"
      ],
      "text/latex": [
       "1309"
      ],
      "text/markdown": [
       "1309"
      ],
      "text/plain": [
       "[1] 1309"
      ]
     },
     "metadata": {},
     "output_type": "display_data"
    }
   ],
   "source": [
    "train <- full[1:791,]\n",
    "length(unique(train$PassengerId))\n",
    "test <- full[892:1309,]\n",
    "length(unique(test$PassengerId))\n",
    "valid <- full[792:891,]\n",
    "length(unique(valid$PassengerId))\n",
    "length(unique(train$PassengerId))+length(unique(test$PassengerId))+length(unique(valid$PassengerId))"
   ]
  },
  {
   "cell_type": "markdown",
   "metadata": {},
   "source": [
    "## EXPLARATORY DATA ANALYSIS"
   ]
  },
  {
   "cell_type": "markdown",
   "metadata": {},
   "source": [
    "* Here is the summary of the pasengers who survived and those who perished based on information from the train set. Numbers are telling the story, but visualisation is still very helpful"
   ]
  },
  {
   "cell_type": "code",
   "execution_count": 8,
   "metadata": {},
   "outputs": [
    {
     "data": {
      "text/plain": [
       "train$Survived: 0\n",
       "  PassengerId    Survived Pclass     Pclass1          Pclass2      \n",
       " Min.   :  1.0   0:485    1: 74   Min.   :0.0000   Min.   :0.0000  \n",
       " 1st Qu.:181.0   1:  0    2: 84   1st Qu.:0.0000   1st Qu.:0.0000  \n",
       " Median :399.0            3:327   Median :0.0000   Median :0.0000  \n",
       " Mean   :395.1                    Mean   :0.1526   Mean   :0.1732  \n",
       " 3rd Qu.:599.0                    3rd Qu.:0.0000   3rd Qu.:0.0000  \n",
       " Max.   :791.0                    Max.   :1.0000   Max.   :1.0000  \n",
       "                                                                   \n",
       "    Pclass3           Sex         Sexmale         Sexfemale     \n",
       " Min.   :0.0000   female: 70   Min.   :0.0000   Min.   :0.0000  \n",
       " 1st Qu.:0.0000   male  :415   1st Qu.:1.0000   1st Qu.:0.0000  \n",
       " Median :1.0000                Median :1.0000   Median :0.0000  \n",
       " Mean   :0.6742                Mean   :0.8557   Mean   :0.1443  \n",
       " 3rd Qu.:1.0000                3rd Qu.:1.0000   3rd Qu.:0.0000  \n",
       " Max.   :1.0000                Max.   :1.0000   Max.   :1.0000  \n",
       "                                                                \n",
       "      Age        SibSp       Parch            Single       Married_no_children\n",
       " Min.   : 1.00   0:348   Min.   :0.0000   Min.   :0.0000   Min.   :0.0000     \n",
       " 1st Qu.:21.00   1: 91   1st Qu.:0.0000   1st Qu.:0.0000   1st Qu.:0.0000     \n",
       " Median :28.00   2: 14   Median :0.0000   Median :1.0000   Median :0.0000     \n",
       " Mean   :30.96   3: 11   Mean   :0.3237   Mean   :0.6722   Mean   :0.1175     \n",
       " 3rd Qu.:40.00   4: 12   3rd Qu.:0.0000   3rd Qu.:1.0000   3rd Qu.:0.0000     \n",
       " Max.   :71.00   5:  5   Max.   :6.0000   Max.   :1.0000   Max.   :1.0000     \n",
       " NA's   :112     8:  4                                                        \n",
       "      Fare             Family       \n",
       " Min.   :  0.000   Min.   :0.00000  \n",
       " 1st Qu.:  7.854   1st Qu.:0.00000  \n",
       " Median : 10.500   Median :0.00000  \n",
       " Mean   : 22.792   Mean   :0.09485  \n",
       " 3rd Qu.: 26.000   3rd Qu.:0.00000  \n",
       " Max.   :263.000   Max.   :1.00000  \n",
       "                                    \n",
       "------------------------------------------------------------ \n",
       "train$Survived: 1\n",
       "  PassengerId    Survived Pclass     Pclass1          Pclass2      \n",
       " Min.   :  2.0   0:  0    1:119   Min.   :0.0000   Min.   :0.0000  \n",
       " 1st Qu.:219.5   1:306    2: 80   1st Qu.:0.0000   1st Qu.:0.0000  \n",
       " Median :391.5            3:107   Median :0.0000   Median :0.0000  \n",
       " Mean   :397.4                    Mean   :0.3889   Mean   :0.2614  \n",
       " 3rd Qu.:580.8                    3rd Qu.:1.0000   3rd Qu.:1.0000  \n",
       " Max.   :789.0                    Max.   :1.0000   Max.   :1.0000  \n",
       "                                                                   \n",
       "    Pclass3           Sex         Sexmale        Sexfemale          Age       \n",
       " Min.   :0.0000   female:209   Min.   :0.000   Min.   :0.000   Min.   : 0.67  \n",
       " 1st Qu.:0.0000   male  : 97   1st Qu.:0.000   1st Qu.:0.000   1st Qu.:19.00  \n",
       " Median :0.0000                Median :0.000   Median :1.000   Median :28.00  \n",
       " Mean   :0.3497                Mean   :0.317   Mean   :0.683   Mean   :28.25  \n",
       " 3rd Qu.:1.0000                3rd Qu.:1.000   3rd Qu.:1.000   3rd Qu.:36.00  \n",
       " Max.   :1.0000                Max.   :1.000   Max.   :1.000   Max.   :80.00  \n",
       "                                                               NA's   :49     \n",
       " SibSp       Parch            Single       Married_no_children      Fare       \n",
       " 0:187   Min.   :0.0000   Min.   :0.0000   Min.   :0.0000      Min.   :  0.00  \n",
       " 1: 99   1st Qu.:0.0000   1st Qu.:0.0000   1st Qu.:0.0000      1st Qu.: 12.38  \n",
       " 2: 13   Median :0.0000   Median :0.0000   Median :0.0000      Median : 26.00  \n",
       " 3:  4   Mean   :0.4542   Mean   :0.4837   Mean   :0.1928      Mean   : 49.55  \n",
       " 4:  3   3rd Qu.:1.0000   3rd Qu.:1.0000   3rd Qu.:0.0000      3rd Qu.: 57.98  \n",
       " 5:  0   Max.   :5.0000   Max.   :1.0000   Max.   :1.0000      Max.   :512.33  \n",
       " 8:  0                                                                         \n",
       "     Family       \n",
       " Min.   :0.00000  \n",
       " 1st Qu.:0.00000  \n",
       " Median :0.00000  \n",
       " Mean   :0.06536  \n",
       " 3rd Qu.:0.00000  \n",
       " Max.   :1.00000  \n",
       "                  "
      ]
     },
     "metadata": {},
     "output_type": "display_data"
    }
   ],
   "source": [
    "by(train, train$Survived, summary)"
   ]
  },
  {
   "cell_type": "markdown",
   "metadata": {},
   "source": [
    "## How many males vs females traveled on Titanic? Who survived?"
   ]
  },
  {
   "cell_type": "code",
   "execution_count": 9,
   "metadata": {},
   "outputs": [
    {
     "data": {
      "text/html": [
       "<ol class=list-inline>\n",
       "\t<li>male</li>\n",
       "\t<li>female</li>\n",
       "</ol>\n"
      ],
      "text/latex": [
       "\\begin{enumerate*}\n",
       "\\item male\n",
       "\\item female\n",
       "\\end{enumerate*}\n"
      ],
      "text/markdown": [
       "1. male\n",
       "2. female\n",
       "\n",
       "\n"
      ],
      "text/plain": [
       "[1] male   female\n",
       "Levels: female male"
      ]
     },
     "metadata": {},
     "output_type": "display_data"
    },
    {
     "data": {
      "text/html": [
       "<table>\n",
       "<thead><tr><th scope=col>value</th><th scope=col>count</th></tr></thead>\n",
       "<tbody>\n",
       "\t<tr><td>female</td><td>466   </td></tr>\n",
       "\t<tr><td>male  </td><td>843   </td></tr>\n",
       "</tbody>\n",
       "</table>\n"
      ],
      "text/latex": [
       "\\begin{tabular}{r|ll}\n",
       " value & count\\\\\n",
       "\\hline\n",
       "\t female & 466   \\\\\n",
       "\t male   & 843   \\\\\n",
       "\\end{tabular}\n"
      ],
      "text/markdown": [
       "\n",
       "value | count | \n",
       "|---|---|\n",
       "| female | 466    | \n",
       "| male   | 843    | \n",
       "\n",
       "\n"
      ],
      "text/plain": [
       "  value  count\n",
       "1 female 466  \n",
       "2 male   843  "
      ]
     },
     "metadata": {},
     "output_type": "display_data"
    }
   ],
   "source": [
    "unique(full$Sex)\n",
    "aggregate(data.frame(count = full$Sex), list(value = full$Sex), length)"
   ]
  },
  {
   "cell_type": "markdown",
   "metadata": {},
   "source": [
    "Yes, women had a much better chance to survive. "
   ]
  },
  {
   "cell_type": "code",
   "execution_count": 10,
   "metadata": {},
   "outputs": [
    {
     "data": {},
     "metadata": {},
     "output_type": "display_data"
    },
    {
     "data": {
      "image/png": "[encoded data removed]",
      "text/plain": [
       "plot without title"
      ]
     },
     "metadata": {},
     "output_type": "display_data"
    }
   ],
   "source": [
    "ggplot(train, aes(train$Survived)) +\n",
    "    geom_bar(aes(fill = train$Sex)) +\n",
    "    coord_flip() +\n",
    "    theme(legend.position = \"top\")"
   ]
  },
  {
   "cell_type": "markdown",
   "metadata": {},
   "source": [
    "### But how is female population different from male's? Were they older? Were they married? Were they richer?\n",
    "* Yes, they payed in average higher price for the tickets (richer)\n",
    "* No, they were approximatly same age as men, even slightly younger.\n",
    "* Yes, there is a difference in status - only 1/2 of women were single, compare to 3/4 of men.\n"
   ]
  },
  {
   "cell_type": "code",
   "execution_count": 11,
   "metadata": {},
   "outputs": [
    {
     "data": {},
     "metadata": {},
     "output_type": "display_data"
    },
    {
     "data": {
      "image/png": "[encoded data removed]",
      "text/plain": [
       "plot without title"
      ]
     },
     "metadata": {},
     "output_type": "display_data"
    }
   ],
   "source": [
    "ggplot(aes(x = Sex, y = Fare), data = subset(full, (!is.na(full$Fare) & full$Fare != 0.0))) +\n",
    "    geom_boxplot() +\n",
    "    stat_summary(fun.y = mean, geom = 'point', shape = 4) + \n",
    "    coord_cartesian(ylim = c(0,100))"
   ]
  },
  {
   "cell_type": "code",
   "execution_count": 12,
   "metadata": {},
   "outputs": [
    {
     "data": {},
     "metadata": {},
     "output_type": "display_data"
    },
    {
     "data": {
      "image/png": "[encoded data removed]",
      "text/plain": [
       "plot without title"
      ]
     },
     "metadata": {},
     "output_type": "display_data"
    }
   ],
   "source": [
    "ggplot(aes(x = Sex, y = Age), data = subset(full, (!is.na(full$Age) & full$Age != 0.0))) +\n",
    "    geom_boxplot() +\n",
    "    stat_summary(fun.y = mean, geom = 'point', shape = 4) + \n",
    "    coord_cartesian(ylim = c(0,100))"
   ]
  },
  {
   "cell_type": "code",
   "execution_count": 13,
   "metadata": {},
   "outputs": [
    {
     "data": {},
     "metadata": {},
     "output_type": "display_data"
    },
    {
     "data": {
      "image/png": "[encoded data removed]",
      "text/plain": [
       "plot without title"
      ]
     },
     "metadata": {},
     "output_type": "display_data"
    }
   ],
   "source": [
    "ggplot(aes(Sex), data = full) +\n",
    "    geom_bar(aes(fill = full$SibSp))\n",
    "    \n"
   ]
  },
  {
   "cell_type": "markdown",
   "metadata": {},
   "source": [
    "### Now, let's look who survived based on Fare and size of the family basis?\n",
    "* Those who paid more for the ticket had a better chance to survive\n",
    "* Large family didn't survived - SibSp>5 (hmmmm...)\n",
    "* Singles had smaller chance to survived too. I wonder why?"
   ]
  },
  {
   "cell_type": "code",
   "execution_count": 14,
   "metadata": {},
   "outputs": [
    {
     "name": "stderr",
     "output_type": "stream",
     "text": [
      "No summary function supplied, defaulting to `mean_se()\n"
     ]
    },
    {
     "data": {},
     "metadata": {},
     "output_type": "display_data"
    },
    {
     "data": {
      "image/png": "[encoded data removed]",
      "text/plain": [
       "plot without title"
      ]
     },
     "metadata": {},
     "output_type": "display_data"
    }
   ],
   "source": [
    "train$Survived <- factor(train$Survived)\n",
    "ggplot(aes(x = Survived, y = Fare), data = subset(train, (!is.na(train$Fare) & train$Fare != 0.0))) +\n",
    "    geom_boxplot() +\n",
    "    stat_summary(geom = 'point', shape = 4) + \n",
    "    coord_cartesian(ylim = c(0,100))\n",
    "\n"
   ]
  },
  {
   "cell_type": "code",
   "execution_count": 15,
   "metadata": {},
   "outputs": [
    {
     "data": {},
     "metadata": {},
     "output_type": "display_data"
    },
    {
     "data": {
      "image/png": "[encoded data removed]",
      "text/plain": [
       "plot without title"
      ]
     },
     "metadata": {},
     "output_type": "display_data"
    }
   ],
   "source": [
    "#need to factorize SibSp to plot in colors\n",
    "train$SibSp <- factor(train$SibSp)\n",
    "ggplot(aes(train$Survived), data = train) +\n",
    "    geom_bar(aes(fill = train$SibSp))"
   ]
  },
  {
   "cell_type": "markdown",
   "metadata": {},
   "source": [
    "### Did those large families perished because they were residing in 3rd class? Let's see how much those family payed for their tickets and what class did they travel...\n",
    "* Yes... seems like 3/4 of families with children traveled in 3rd class. May be that is the reason they didn't survived."
   ]
  },
  {
   "cell_type": "code",
   "execution_count": 16,
   "metadata": {},
   "outputs": [
    {
     "data": {},
     "metadata": {},
     "output_type": "display_data"
    },
    {
     "data": {
      "image/png": "[encoded data removed]",
      "text/plain": [
       "plot without title"
      ]
     },
     "metadata": {},
     "output_type": "display_data"
    }
   ],
   "source": [
    "ggplot(train, aes(train$Fare, fill = train$SibSp)) + \n",
    "    geom_histogram(binwidth = 5) +\n",
    "    coord_cartesian(xlim = c(0,100))"
   ]
  },
  {
   "cell_type": "code",
   "execution_count": 17,
   "metadata": {},
   "outputs": [
    {
     "data": {
      "text/html": [
       "66"
      ],
      "text/latex": [
       "66"
      ],
      "text/markdown": [
       "66"
      ],
      "text/plain": [
       "[1] 66"
      ]
     },
     "metadata": {},
     "output_type": "display_data"
    },
    {
     "data": {
      "text/plain": [
       " Pclass     Family          n        \n",
       " 1:2    Min.   :0.0   Min.   :  8.0  \n",
       " 2:2    1st Qu.:0.0   1st Qu.: 19.0  \n",
       " 3:2    Median :0.5   Median :102.0  \n",
       "        Mean   :0.5   Mean   :131.8  \n",
       "        3rd Qu.:1.0   3rd Qu.:177.5  \n",
       "        Max.   :1.0   Max.   :385.0  "
      ]
     },
     "metadata": {},
     "output_type": "display_data"
    },
    {
     "data": {
      "text/html": [
       "<table>\n",
       "<thead><tr><th scope=col>Pclass</th><th scope=col>Family</th><th scope=col>n</th></tr></thead>\n",
       "<tbody>\n",
       "\t<tr><td>1  </td><td>0  </td><td>185</td></tr>\n",
       "\t<tr><td>1  </td><td>1  </td><td>  8</td></tr>\n",
       "\t<tr><td>2  </td><td>0  </td><td>155</td></tr>\n",
       "\t<tr><td>2  </td><td>1  </td><td>  9</td></tr>\n",
       "\t<tr><td>3  </td><td>0  </td><td>385</td></tr>\n",
       "\t<tr><td>3  </td><td>1  </td><td> 49</td></tr>\n",
       "</tbody>\n",
       "</table>\n"
      ],
      "text/latex": [
       "\\begin{tabular}{r|lll}\n",
       " Pclass & Family & n\\\\\n",
       "\\hline\n",
       "\t 1   & 0   & 185\\\\\n",
       "\t 1   & 1   &   8\\\\\n",
       "\t 2   & 0   & 155\\\\\n",
       "\t 2   & 1   &   9\\\\\n",
       "\t 3   & 0   & 385\\\\\n",
       "\t 3   & 1   &  49\\\\\n",
       "\\end{tabular}\n"
      ],
      "text/markdown": [
       "\n",
       "Pclass | Family | n | \n",
       "|---|---|---|---|---|---|\n",
       "| 1   | 0   | 185 | \n",
       "| 1   | 1   |   8 | \n",
       "| 2   | 0   | 155 | \n",
       "| 2   | 1   |   9 | \n",
       "| 3   | 0   | 385 | \n",
       "| 3   | 1   |  49 | \n",
       "\n",
       "\n"
      ],
      "text/plain": [
       "  Pclass Family n  \n",
       "1 1      0      185\n",
       "2 1      1        8\n",
       "3 2      0      155\n",
       "4 2      1        9\n",
       "5 3      0      385\n",
       "6 3      1       49"
      ]
     },
     "metadata": {},
     "output_type": "display_data"
    }
   ],
   "source": [
    "train.by_class <- train %>%\n",
    "    group_by(Pclass,Family) %>%\n",
    "    summarise(n=n()) %>%\n",
    "    ungroup() %>%\n",
    "    arrange(Pclass)\n",
    "length(subset(train, train$Family == 1)$Family)\n",
    "summary(train.by_class)\n",
    "train.by_class\n"
   ]
  },
  {
   "cell_type": "code",
   "execution_count": 18,
   "metadata": {
    "collapsed": true
   },
   "outputs": [],
   "source": [
    "#is.factor(as.numeric(levels(train$SibSp))[train$SibSp])"
   ]
  },
  {
   "cell_type": "markdown",
   "metadata": {},
   "source": [
    "### Now, back to the question, what happened to the boys? Is it true that around age 8 the boys are not survivers anymore?\n",
    "Since the number of males are much larger than femails I will look at the PART of SURVIVED/PERISHED for both genders as a function of age.\n",
    "\n",
    "It'd be nice to plot these data, and I will do it some other time. Now I am just comparing the survival rate of male vs female at different ages\n",
    "\n",
    "*  <10 y/o\n",
    "girls  3.6,\n",
    "boys 1.5\n",
    "\n",
    "* <12 y/o\n",
    "girls  1.7,\n",
    "boys 1.2\n",
    "\n",
    "* <16 y/o\n",
    "girls  2,\n",
    "boys 1\n",
    "\n",
    "* <18 y/o\n",
    "girls  2.3,\n",
    "boys 0.6\n",
    "\n",
    "There is a clear drop in survival rate for boys around 18 y/o, but not 8! **Myth is busted.**\n",
    "Still not quite clear why girls have been luckier"
   ]
  },
  {
   "cell_type": "code",
   "execution_count": 19,
   "metadata": {},
   "outputs": [
    {
     "data": {
      "text/plain": [
       "   Min. 1st Qu.  Median    Mean 3rd Qu.    Max.    NA's \n",
       "   0.67   21.00   28.00   29.85   38.00   80.00     161 "
      ]
     },
     "metadata": {},
     "output_type": "display_data"
    }
   ],
   "source": [
    "summary(train$Age)"
   ]
  },
  {
   "cell_type": "code",
   "execution_count": 20,
   "metadata": {},
   "outputs": [
    {
     "data": {
      "text/html": [
       "3.6"
      ],
      "text/latex": [
       "3.6"
      ],
      "text/markdown": [
       "3.6"
      ],
      "text/plain": [
       "[1] 3.6"
      ]
     },
     "metadata": {},
     "output_type": "display_data"
    },
    {
     "data": {
      "text/html": [
       "1.5"
      ],
      "text/latex": [
       "1.5"
      ],
      "text/markdown": [
       "1.5"
      ],
      "text/plain": [
       "[1] 1.5"
      ]
     },
     "metadata": {},
     "output_type": "display_data"
    },
    {
     "data": {
      "text/html": [
       "43"
      ],
      "text/latex": [
       "43"
      ],
      "text/markdown": [
       "43"
      ],
      "text/plain": [
       "[1] 43"
      ]
     },
     "metadata": {},
     "output_type": "display_data"
    }
   ],
   "source": [
    "train$Survived <- factor(train$Survived)\n",
    "train.age_subset <- subset(train, (!is.na(train$Age) & train$Age<8))\n",
    "#Need to find %survivals in girls and %survvals in boys\n",
    "girls_survived <- subset(train.age_subset, (train.age_subset$Sex == 'female' & train.age_subset$Survived == 1))\n",
    "girls_perished <- subset(train.age_subset, (train.age_subset$Sex == 'female' & train.age_subset$Survived == 0))\n",
    "length(girls_survived$PassengerId)/length(girls_perished$PassengerId)\n",
    "\n",
    "boys_survived <- subset(train.age_subset, (train.age_subset$Sex == 'male' & train.age_subset$Survived == 1))\n",
    "boys_perished <- subset(train.age_subset, (train.age_subset$Sex == 'male' & train.age_subset$Survived == 0))\n",
    "length(unique(boys_survived$PassengerId))/length(unique(boys_perished$PassengerId))\n",
    "length(unique(train.age_subset$PassengerId))"
   ]
  },
  {
   "cell_type": "markdown",
   "metadata": {},
   "source": [
    "## EDA summary: \n",
    "* Women had much better chance to survive the catastroph. Makes sense since they travel on average in slightly more expensive cabins and were allowed on the safe boats before cheap 3rd class. Also, the rule: \"Women and children first\", obviously helped.\n",
    "\n",
    "* It is a myth that boys older than 8 were not allowed on boats, seems like the cutoff age was somwhere between 16 and 18. \n",
    "\n",
    "* Large families didn't survive, singles also had a smaller chance to get out alive. Could be partially due to the fact that both categories traveled in inexpensive cabines, further from the acess to the life boats."
   ]
  },
  {
   "cell_type": "markdown",
   "metadata": {},
   "source": [
    "## MACHINE LEARNING"
   ]
  },
  {
   "cell_type": "code",
   "execution_count": 21,
   "metadata": {},
   "outputs": [
    {
     "name": "stdout",
     "output_type": "stream",
     "text": [
      "'data.frame':\t791 obs. of  16 variables:\n",
      " $ PassengerId        : int  1 2 3 4 5 6 7 8 9 10 ...\n",
      " $ Survived           : num  0 1 1 1 0 0 0 0 1 1 ...\n",
      " $ Pclass             : num  3 1 3 1 3 3 1 3 3 2 ...\n",
      " $ Pclass1            : num  0 1 0 1 0 0 1 0 0 0 ...\n",
      " $ Pclass2            : num  0 0 0 0 0 0 0 0 0 1 ...\n",
      " $ Pclass3            : num  1 0 1 0 1 1 0 1 1 0 ...\n",
      " $ Sex                : Factor w/ 2 levels \"female\",\"male\": 2 1 1 1 2 2 2 2 1 1 ...\n",
      " $ Sexmale            : num  1 0 0 0 1 1 1 1 0 0 ...\n",
      " $ Sexfemale          : num  0 1 1 1 0 0 0 0 1 1 ...\n",
      " $ Age                : num  22 38 26 35 35 NA 54 2 27 14 ...\n",
      " $ SibSp              : num  1 1 0 1 0 0 0 3 0 1 ...\n",
      " $ Parch              : int  0 0 0 0 0 0 0 1 2 0 ...\n",
      " $ Single             : num  0 0 1 0 1 1 1 0 0 0 ...\n",
      " $ Married_no_children: num  1 1 0 1 0 0 0 0 0 1 ...\n",
      " $ Fare               : num  7.25 71.28 7.92 53.1 8.05 ...\n",
      " $ Family             : num  0 0 0 0 0 0 0 1 0 0 ...\n"
     ]
    }
   ],
   "source": [
    "#Converting factor variables back to numeric\n",
    "\n",
    "train$SibSp <- as.numeric(levels(train$SibSp))[train$SibSp]\n",
    "train$Survived<- as.numeric(levels(train$Survived))[train$Survived]\n",
    "train$Pclass<- as.numeric(levels(train$Pclass))[train$Pclass]\n",
    "str(train)"
   ]
  },
  {
   "cell_type": "markdown",
   "metadata": {},
   "source": [
    "### Let's see what variables are contributing the most into the desision. \n",
    "\n",
    "* For this pupropse I will use Decision Tree (RandomForest aggregation to be precised) algorithm to see how it gets splits based on the information enthropy. \n",
    "* One important thing to remember - Decision Tree does not work with NA. Menas my training set should contain values in every raw and every column.\n",
    "Let's do this"
   ]
  },
  {
   "cell_type": "code",
   "execution_count": 22,
   "metadata": {
    "collapsed": true
   },
   "outputs": [],
   "source": [
    "x_train <- train[complete.cases(train$Age), ]"
   ]
  },
  {
   "cell_type": "code",
   "execution_count": 23,
   "metadata": {},
   "outputs": [
    {
     "data": {
      "text/plain": [
       "\n",
       "Call:\n",
       " randomForest(formula = factor(Survived) ~ Sexfemale + Sexmale +      Age + Fare + SibSp + Parch + Family + Single + Married_no_children +      Pclass1 + Pclass2 + Pclass3, data = x_train) \n",
       "               Type of random forest: classification\n",
       "                     Number of trees: 500\n",
       "No. of variables tried at each split: 3\n",
       "\n",
       "        OOB estimate of  error rate: 18.89%\n",
       "Confusion matrix:\n",
       "    0   1 class.error\n",
       "0 340  33  0.08847185\n",
       "1  86 171  0.33463035"
      ]
     },
     "metadata": {},
     "output_type": "display_data"
    }
   ],
   "source": [
    "set.seed(754)\n",
    "\n",
    "# Build the model (note: not all possible variables are used)\n",
    "rf_model <- randomForest(factor(Survived) ~ Sexfemale + Sexmale + Age + Fare + SibSp +Parch + Family + Single + Married_no_children + Pclass1 +Pclass2 +Pclass3, data =x_train)\n",
    "rf_model\n"
   ]
  },
  {
   "cell_type": "code",
   "execution_count": 24,
   "metadata": {
    "collapsed": true
   },
   "outputs": [],
   "source": [
    "importance    <- importance(rf_model)\n",
    "varImportance <- data.frame(Variables = row.names(importance), \n",
    "                            Importance = round(importance[ ,'MeanDecreaseGini'],2))"
   ]
  },
  {
   "cell_type": "code",
   "execution_count": 25,
   "metadata": {
    "collapsed": true
   },
   "outputs": [],
   "source": [
    "rankImportance <- varImportance %>%\n",
    "  mutate(Rank = paste0('#',dense_rank(desc(Importance))))"
   ]
  },
  {
   "cell_type": "code",
   "execution_count": 26,
   "metadata": {},
   "outputs": [
    {
     "data": {},
     "metadata": {},
     "output_type": "display_data"
    },
    {
     "data": {
      "image/png": "[encoded data removed]",
      "text/plain": [
       "plot without title"
      ]
     },
     "metadata": {},
     "output_type": "display_data"
    }
   ],
   "source": [
    "# Use ggplot2 to visualize the relative importance of variables\n",
    "ggplot(rankImportance, aes(x = reorder(Variables, Importance), \n",
    "    y = Importance, fill = Importance)) +\n",
    "    geom_bar(stat='identity') + \n",
    "    geom_text(aes(x = Variables, y = 0.5, label = Rank),\n",
    "    hjust=0, vjust=0.55, size = 4, colour = 'red') +\n",
    "    labs(x = 'Variables') +\n",
    "    coord_flip()"
   ]
  },
  {
   "cell_type": "markdown",
   "metadata": {},
   "source": [
    "* Very well, seems like neither one of my newly introduced variables (Single, Family, Married_no_children) really contribute into the classification \n",
    "* What is important that Age is one of the pretty important factors. Means we cannot ommit this parameter. 2 ways to prceed: use the algorithm that doesnt' care about NA (NaiveBayes) or somehow make sure we fill out all the blankes for Age parameter.\n",
    "* (I tryed Naive Bayes which gave me a quite sad accuracy of 75%. This is not good enough, so we need to get the Age data in order)\n",
    "* I am going to use Machine Learning first to predict missing Age based on available parameters. Let's print a correlation matrix to see what our best candidates for age prediction are.\n",
    "    "
   ]
  },
  {
   "cell_type": "code",
   "execution_count": 27,
   "metadata": {},
   "outputs": [
    {
     "data": {
      "text/html": [
       "<table>\n",
       "<thead><tr><th></th><th scope=col>Sexmale</th><th scope=col>Sexfemale</th><th scope=col>Age</th><th scope=col>Pclass</th><th scope=col>Parch</th><th scope=col>Single</th><th scope=col>SibSp</th></tr></thead>\n",
       "<tbody>\n",
       "\t<tr><th scope=row>1</th><td>1 </td><td>0 </td><td>22</td><td>3 </td><td>0 </td><td>0 </td><td>1 </td></tr>\n",
       "\t<tr><th scope=row>2</th><td>0 </td><td>1 </td><td>38</td><td>1 </td><td>0 </td><td>0 </td><td>1 </td></tr>\n",
       "\t<tr><th scope=row>3</th><td>0 </td><td>1 </td><td>26</td><td>3 </td><td>0 </td><td>1 </td><td>0 </td></tr>\n",
       "\t<tr><th scope=row>4</th><td>0 </td><td>1 </td><td>35</td><td>1 </td><td>0 </td><td>0 </td><td>1 </td></tr>\n",
       "\t<tr><th scope=row>5</th><td>1 </td><td>0 </td><td>35</td><td>3 </td><td>0 </td><td>1 </td><td>0 </td></tr>\n",
       "\t<tr><th scope=row>7</th><td>1 </td><td>0 </td><td>54</td><td>1 </td><td>0 </td><td>1 </td><td>0 </td></tr>\n",
       "</tbody>\n",
       "</table>\n"
      ],
      "text/latex": [
       "\\begin{tabular}{r|lllllll}\n",
       "  & Sexmale & Sexfemale & Age & Pclass & Parch & Single & SibSp\\\\\n",
       "\\hline\n",
       "\t1 & 1  & 0  & 22 & 3  & 0  & 0  & 1 \\\\\n",
       "\t2 & 0  & 1  & 38 & 1  & 0  & 0  & 1 \\\\\n",
       "\t3 & 0  & 1  & 26 & 3  & 0  & 1  & 0 \\\\\n",
       "\t4 & 0  & 1  & 35 & 1  & 0  & 0  & 1 \\\\\n",
       "\t5 & 1  & 0  & 35 & 3  & 0  & 1  & 0 \\\\\n",
       "\t7 & 1  & 0  & 54 & 1  & 0  & 1  & 0 \\\\\n",
       "\\end{tabular}\n"
      ],
      "text/markdown": [
       "\n",
       "| <!--/--> | Sexmale | Sexfemale | Age | Pclass | Parch | Single | SibSp | \n",
       "|---|---|---|---|---|---|\n",
       "| 1 | 1  | 0  | 22 | 3  | 0  | 0  | 1  | \n",
       "| 2 | 0  | 1  | 38 | 1  | 0  | 0  | 1  | \n",
       "| 3 | 0  | 1  | 26 | 3  | 0  | 1  | 0  | \n",
       "| 4 | 0  | 1  | 35 | 1  | 0  | 0  | 1  | \n",
       "| 5 | 1  | 0  | 35 | 3  | 0  | 1  | 0  | \n",
       "| 7 | 1  | 0  | 54 | 1  | 0  | 1  | 0  | \n",
       "\n",
       "\n"
      ],
      "text/plain": [
       "  Sexmale Sexfemale Age Pclass Parch Single SibSp\n",
       "1 1       0         22  3      0     0      1    \n",
       "2 0       1         38  1      0     0      1    \n",
       "3 0       1         26  3      0     1      0    \n",
       "4 0       1         35  1      0     0      1    \n",
       "5 1       0         35  3      0     1      0    \n",
       "7 1       0         54  1      0     1      0    "
      ]
     },
     "metadata": {},
     "output_type": "display_data"
    },
    {
     "data": {
      "text/html": [
       "<table>\n",
       "<thead><tr><th></th><th scope=col>Sexmale</th><th scope=col>Sexfemale</th><th scope=col>Age</th><th scope=col>Pclass</th><th scope=col>Parch</th><th scope=col>Single</th><th scope=col>SibSp</th></tr></thead>\n",
       "<tbody>\n",
       "\t<tr><th scope=row>Sexmale</th><td> 1.0000000</td><td>-1.0000000</td><td> 0.1244799</td><td> 0.1421036</td><td>-0.2450860</td><td> 0.2623235</td><td>-0.1050287</td></tr>\n",
       "\t<tr><th scope=row>Sexfemale</th><td>-1.0000000</td><td> 1.0000000</td><td>-0.1244799</td><td>-0.1421036</td><td> 0.2450860</td><td>-0.2623235</td><td> 0.1050287</td></tr>\n",
       "\t<tr><th scope=row>Age</th><td> 0.1244799</td><td>-0.1244799</td><td> 1.0000000</td><td>-0.3715187</td><td>-0.1825574</td><td> 0.1922030</td><td>-0.3071295</td></tr>\n",
       "\t<tr><th scope=row>Pclass</th><td> 0.1421036</td><td>-0.1421036</td><td>-0.3715187</td><td> 1.0000000</td><td> 0.0248318</td><td> 0.1488041</td><td> 0.0679711</td></tr>\n",
       "\t<tr><th scope=row>Parch</th><td>-0.2450860</td><td> 0.2450860</td><td>-0.1825574</td><td> 0.0248318</td><td> 1.0000000</td><td>-0.5669714</td><td> 0.3835855</td></tr>\n",
       "\t<tr><th scope=row>Single</th><td> 0.2623235</td><td>-0.2623235</td><td> 0.1922030</td><td> 0.1488041</td><td>-0.5669714</td><td> 1.0000000</td><td>-0.6340517</td></tr>\n",
       "\t<tr><th scope=row>SibSp</th><td>-0.1050287</td><td> 0.1050287</td><td>-0.3071295</td><td> 0.0679711</td><td> 0.3835855</td><td>-0.6340517</td><td> 1.0000000</td></tr>\n",
       "</tbody>\n",
       "</table>\n"
      ],
      "text/latex": [
       "\\begin{tabular}{r|lllllll}\n",
       "  & Sexmale & Sexfemale & Age & Pclass & Parch & Single & SibSp\\\\\n",
       "\\hline\n",
       "\tSexmale &  1.0000000 & -1.0000000 &  0.1244799 &  0.1421036 & -0.2450860 &  0.2623235 & -0.1050287\\\\\n",
       "\tSexfemale & -1.0000000 &  1.0000000 & -0.1244799 & -0.1421036 &  0.2450860 & -0.2623235 &  0.1050287\\\\\n",
       "\tAge &  0.1244799 & -0.1244799 &  1.0000000 & -0.3715187 & -0.1825574 &  0.1922030 & -0.3071295\\\\\n",
       "\tPclass &  0.1421036 & -0.1421036 & -0.3715187 &  1.0000000 &  0.0248318 &  0.1488041 &  0.0679711\\\\\n",
       "\tParch & -0.2450860 &  0.2450860 & -0.1825574 &  0.0248318 &  1.0000000 & -0.5669714 &  0.3835855\\\\\n",
       "\tSingle &  0.2623235 & -0.2623235 &  0.1922030 &  0.1488041 & -0.5669714 &  1.0000000 & -0.6340517\\\\\n",
       "\tSibSp & -0.1050287 &  0.1050287 & -0.3071295 &  0.0679711 &  0.3835855 & -0.6340517 &  1.0000000\\\\\n",
       "\\end{tabular}\n"
      ],
      "text/markdown": [
       "\n",
       "| <!--/--> | Sexmale | Sexfemale | Age | Pclass | Parch | Single | SibSp | \n",
       "|---|---|---|---|---|---|---|\n",
       "| Sexmale |  1.0000000 | -1.0000000 |  0.1244799 |  0.1421036 | -0.2450860 |  0.2623235 | -0.1050287 | \n",
       "| Sexfemale | -1.0000000 |  1.0000000 | -0.1244799 | -0.1421036 |  0.2450860 | -0.2623235 |  0.1050287 | \n",
       "| Age |  0.1244799 | -0.1244799 |  1.0000000 | -0.3715187 | -0.1825574 |  0.1922030 | -0.3071295 | \n",
       "| Pclass |  0.1421036 | -0.1421036 | -0.3715187 |  1.0000000 |  0.0248318 |  0.1488041 |  0.0679711 | \n",
       "| Parch | -0.2450860 |  0.2450860 | -0.1825574 |  0.0248318 |  1.0000000 | -0.5669714 |  0.3835855 | \n",
       "| Single |  0.2623235 | -0.2623235 |  0.1922030 |  0.1488041 | -0.5669714 |  1.0000000 | -0.6340517 | \n",
       "| SibSp | -0.1050287 |  0.1050287 | -0.3071295 |  0.0679711 |  0.3835855 | -0.6340517 |  1.0000000 | \n",
       "\n",
       "\n"
      ],
      "text/plain": [
       "          Sexmale    Sexfemale  Age        Pclass     Parch      Single    \n",
       "Sexmale    1.0000000 -1.0000000  0.1244799  0.1421036 -0.2450860  0.2623235\n",
       "Sexfemale -1.0000000  1.0000000 -0.1244799 -0.1421036  0.2450860 -0.2623235\n",
       "Age        0.1244799 -0.1244799  1.0000000 -0.3715187 -0.1825574  0.1922030\n",
       "Pclass     0.1421036 -0.1421036 -0.3715187  1.0000000  0.0248318  0.1488041\n",
       "Parch     -0.2450860  0.2450860 -0.1825574  0.0248318  1.0000000 -0.5669714\n",
       "Single     0.2623235 -0.2623235  0.1922030  0.1488041 -0.5669714  1.0000000\n",
       "SibSp     -0.1050287  0.1050287 -0.3071295  0.0679711  0.3835855 -0.6340517\n",
       "          SibSp     \n",
       "Sexmale   -0.1050287\n",
       "Sexfemale  0.1050287\n",
       "Age       -0.3071295\n",
       "Pclass     0.0679711\n",
       "Parch      0.3835855\n",
       "Single    -0.6340517\n",
       "SibSp      1.0000000"
      ]
     },
     "metadata": {},
     "output_type": "display_data"
    },
    {
     "data": {
      "image/png": "[encoded data removed]",
      "text/plain": [
       "plot without title"
      ]
     },
     "metadata": {},
     "output_type": "display_data"
    }
   ],
   "source": [
    "new_train = subset(train, select = c(Sexmale, Sexfemale, Age, Pclass, Parch, Single, SibSp))\n",
    "new_train_new <- new_train[complete.cases(new_train),]     \n",
    "head(new_train_new)\n",
    "cov.matr = cov(new_train_new)\n",
    "cov2cor(cov.matr)\n",
    "pairs(new_train_new)"
   ]
  },
  {
   "cell_type": "code",
   "execution_count": 28,
   "metadata": {},
   "outputs": [
    {
     "data": {
      "text/plain": [
       "\n",
       "\tPearson's product-moment correlation\n",
       "\n",
       "data:  train$Age and train$SibSp\n",
       "t = -8.0875, df = 628, p-value = 3.147e-15\n",
       "alternative hypothesis: true correlation is not equal to 0\n",
       "95 percent confidence interval:\n",
       " -0.3762176 -0.2346449\n",
       "sample estimates:\n",
       "       cor \n",
       "-0.3071295 \n"
      ]
     },
     "metadata": {},
     "output_type": "display_data"
    }
   ],
   "source": [
    "cor.test(train$Age, train$SibSp)"
   ]
  },
  {
   "cell_type": "code",
   "execution_count": 29,
   "metadata": {},
   "outputs": [
    {
     "data": {
      "text/plain": [
       "\n",
       "\tPearson's product-moment correlation\n",
       "\n",
       "data:  train$Age and train$Parch\n",
       "t = -4.6531, df = 628, p-value = 3.991e-06\n",
       "alternative hypothesis: true correlation is not equal to 0\n",
       "95 percent confidence interval:\n",
       " -0.2570064 -0.1059544\n",
       "sample estimates:\n",
       "       cor \n",
       "-0.1825574 \n"
      ]
     },
     "metadata": {},
     "output_type": "display_data"
    }
   ],
   "source": [
    "cor.test(train$Age, train$Parch)"
   ]
  },
  {
   "cell_type": "code",
   "execution_count": 30,
   "metadata": {},
   "outputs": [
    {
     "data": {
      "text/plain": [
       "\n",
       "\tPearson's product-moment correlation\n",
       "\n",
       "data:  train$Age and train$Pclass\n",
       "t = -10.028, df = 628, p-value < 2.2e-16\n",
       "alternative hypothesis: true correlation is not equal to 0\n",
       "95 percent confidence interval:\n",
       " -0.4369520 -0.3021741\n",
       "sample estimates:\n",
       "       cor \n",
       "-0.3715187 \n"
      ]
     },
     "metadata": {},
     "output_type": "display_data"
    }
   ],
   "source": [
    "cor.test(train$Age, train$Pclass)"
   ]
  },
  {
   "cell_type": "markdown",
   "metadata": {},
   "source": [
    "* Based on the correlation test seems like Age has the strongest correlion with SibSp (spouse, siblings), then Parch (parents, children), but also travel accomodations Pclass. \n",
    "* I will use 4 parameters (Single, SibSp, Parch, Pclass to predict missing age) . "
   ]
  },
  {
   "cell_type": "code",
   "execution_count": 31,
   "metadata": {},
   "outputs": [
    {
     "data": {
      "text/html": [
       "263"
      ],
      "text/latex": [
       "263"
      ],
      "text/markdown": [
       "263"
      ],
      "text/plain": [
       "[1] 263"
      ]
     },
     "metadata": {},
     "output_type": "display_data"
    },
    {
     "data": {
      "text/html": [
       "1046"
      ],
      "text/latex": [
       "1046"
      ],
      "text/markdown": [
       "1046"
      ],
      "text/plain": [
       "[1] 1046"
      ]
     },
     "metadata": {},
     "output_type": "display_data"
    }
   ],
   "source": [
    "# Create 2 data frames with Age data in missing\n",
    "#and Age data in place\n",
    "#Attention! I am using full dataframe since I am not interested in the Survived numbers, but Age\n",
    "\n",
    "no_full <- full[is.na(full$Age),]\n",
    "length(no_full$Age)\n",
    "\n",
    "yes_full <- full[complete.cases(full$Age),]  \n",
    "length(yes_full$Age)\n"
   ]
  },
  {
   "cell_type": "code",
   "execution_count": 32,
   "metadata": {},
   "outputs": [
    {
     "name": "stderr",
     "output_type": "stream",
     "text": [
      "Warning message in .local(x, ...):\n",
      "\"Variable(s) `' constant. Cannot scale data.\"Warning message in .local(x, ...):\n",
      "\"Variable(s) `' constant. Cannot scale data.\"Warning message in .local(x, ...):\n",
      "\"Variable(s) `' constant. Cannot scale data.\""
     ]
    },
    {
     "data": {
      "text/plain": [
       "Support Vector Machines with Radial Basis Function Kernel \n",
       "\n",
       "1046 samples\n",
       "   6 predictor\n",
       "\n",
       "No pre-processing\n",
       "Resampling: Cross-Validated (10 fold) \n",
       "Summary of sample sizes: 940, 942, 941, 942, 942, 942, ... \n",
       "Resampling results across tuning parameters:\n",
       "\n",
       "  C     RMSE      Rsquared \n",
       "  0.25  12.72093  0.2466751\n",
       "  0.50  12.66094  0.2522949\n",
       "  1.00  12.58688  0.2609131\n",
       "\n",
       "Tuning parameter 'sigma' was held constant at a value of 0.06311676\n",
       "RMSE was used to select the optimal model using  the smallest value.\n",
       "The final values used for the model were sigma = 0.06311676 and C = 1. "
      ]
     },
     "metadata": {},
     "output_type": "display_data"
    }
   ],
   "source": [
    "#train algorithm using data with Age available\n",
    "\n",
    "control <- trainControl(method=\"cv\", number=10)\n",
    "set.seed(7)\n",
    "fit <- train(Age ~ (Pclass1 + Pclass2 + Pclass3 +Single+SibSp +Parch), data = yes_full, method=\"svmRadial\", trControl=control)\n",
    "\n",
    "\n",
    "fit"
   ]
  },
  {
   "cell_type": "code",
   "execution_count": 33,
   "metadata": {},
   "outputs": [
    {
     "data": {
      "text/html": [
       "263"
      ],
      "text/latex": [
       "263"
      ],
      "text/markdown": [
       "263"
      ],
      "text/plain": [
       "[1] 263"
      ]
     },
     "metadata": {},
     "output_type": "display_data"
    }
   ],
   "source": [
    "# Populating Age column by predictions\n",
    "results <- predict(fit, no_full)\n",
    "length(results)\n",
    "no_full$Age <- results"
   ]
  },
  {
   "cell_type": "code",
   "execution_count": 34,
   "metadata": {},
   "outputs": [
    {
     "data": {
      "text/html": [
       "1309"
      ],
      "text/latex": [
       "1309"
      ],
      "text/markdown": [
       "1309"
      ],
      "text/plain": [
       "[1] 1309"
      ]
     },
     "metadata": {},
     "output_type": "display_data"
    }
   ],
   "source": [
    "#concatinating two dataframes yes and no_full and ordering it by PassengerId\n",
    "full  <- bind_rows(no_full, yes_full)\n",
    "length(full$Age)\n",
    "\n",
    "full <- full[with(full, order(PassengerId)), ]"
   ]
  },
  {
   "cell_type": "code",
   "execution_count": 35,
   "metadata": {},
   "outputs": [
    {
     "data": {
      "text/html": [
       "791"
      ],
      "text/latex": [
       "791"
      ],
      "text/markdown": [
       "791"
      ],
      "text/plain": [
       "[1] 791"
      ]
     },
     "metadata": {},
     "output_type": "display_data"
    },
    {
     "data": {
      "text/html": [
       "418"
      ],
      "text/latex": [
       "418"
      ],
      "text/markdown": [
       "418"
      ],
      "text/plain": [
       "[1] 418"
      ]
     },
     "metadata": {},
     "output_type": "display_data"
    },
    {
     "data": {
      "text/html": [
       "100"
      ],
      "text/latex": [
       "100"
      ],
      "text/markdown": [
       "100"
      ],
      "text/plain": [
       "[1] 100"
      ]
     },
     "metadata": {},
     "output_type": "display_data"
    },
    {
     "data": {
      "text/html": [
       "1309"
      ],
      "text/latex": [
       "1309"
      ],
      "text/markdown": [
       "1309"
      ],
      "text/plain": [
       "[1] 1309"
      ]
     },
     "metadata": {},
     "output_type": "display_data"
    }
   ],
   "source": [
    "#Separate data again on train, test and valid\n",
    "\n",
    "train <- full[1:791,]\n",
    "length(unique(train$PassengerId))\n",
    "test <- full[892:1309,]\n",
    "length(unique(test$PassengerId))\n",
    "valid <- full[792:891,]\n",
    "length(unique(valid$PassengerId))\n",
    "length(unique(train$PassengerId))+length(unique(test$PassengerId))+length(unique(valid$PassengerId))"
   ]
  },
  {
   "cell_type": "code",
   "execution_count": 36,
   "metadata": {},
   "outputs": [
    {
     "name": "stdout",
     "output_type": "stream",
     "text": [
      "'data.frame':\t791 obs. of  16 variables:\n",
      " $ PassengerId        : int  1 2 3 4 5 6 7 8 9 10 ...\n",
      " $ Survived           : Factor w/ 2 levels \"0\",\"1\": 1 2 2 2 1 1 1 1 2 2 ...\n",
      " $ Pclass             : Factor w/ 3 levels \"1\",\"2\",\"3\": 3 1 3 1 3 3 1 3 3 2 ...\n",
      " $ Pclass1            : num  0 1 0 1 0 0 1 0 0 0 ...\n",
      " $ Pclass2            : num  0 0 0 0 0 0 0 0 0 1 ...\n",
      " $ Pclass3            : num  1 0 1 0 1 1 0 1 1 0 ...\n",
      " $ Sex                : Factor w/ 2 levels \"female\",\"male\": 2 1 1 1 2 2 2 2 1 1 ...\n",
      " $ Sexmale            : num  1 0 0 0 1 1 1 1 0 0 ...\n",
      " $ Sexfemale          : num  0 1 1 1 0 0 0 0 1 1 ...\n",
      " $ Age                : num  22 38 26 35 35 ...\n",
      " $ SibSp              : Factor w/ 7 levels \"0\",\"1\",\"2\",\"3\",..: 2 2 1 2 1 1 1 4 1 2 ...\n",
      " $ Parch              : int  0 0 0 0 0 0 0 1 2 0 ...\n",
      " $ Single             : num  0 0 1 0 1 1 1 0 0 0 ...\n",
      " $ Married_no_children: num  1 1 0 1 0 0 0 0 0 1 ...\n",
      " $ Fare               : num  7.25 71.28 7.92 53.1 8.05 ...\n",
      " $ Family             : num  0 0 0 0 0 0 0 1 0 0 ...\n"
     ]
    },
    {
     "data": {
      "text/plain": [
       "Support Vector Machines with Radial Basis Function Kernel \n",
       "\n",
       "791 samples\n",
       "  4 predictor\n",
       "  2 classes: '0', '1' \n",
       "\n",
       "No pre-processing\n",
       "Resampling: Cross-Validated (10 fold) \n",
       "Summary of sample sizes: 711, 711, 712, 712, 713, 713, ... \n",
       "Resampling results across tuning parameters:\n",
       "\n",
       "  C     Accuracy   Kappa    \n",
       "  0.25  0.8079410  0.5795913\n",
       "  0.50  0.8167868  0.5991659\n",
       "  1.00  0.8192868  0.6038222\n",
       "\n",
       "Tuning parameter 'sigma' was held constant at a value of 1.429841\n",
       "Accuracy was used to select the optimal model using  the largest value.\n",
       "The final values used for the model were sigma = 1.429841 and C = 1. "
      ]
     },
     "metadata": {},
     "output_type": "display_data"
    }
   ],
   "source": [
    "# Run SVM\n",
    "set.seed(7)\n",
    "control <- trainControl(method=\"cv\", number=10)\n",
    "metric <- \"Accuracy\"\n",
    "str(train)\n",
    "# Build the model (note: not all possible variables are used)\n",
    "fit <- train(factor(Survived) ~ (Sexmale + Sexfemale + Age +  Pclass3), data = train,method=\"svmRadial\", trControl=control)\n",
    "# c) advanced algorithms\n",
    "\n",
    "fit"
   ]
  },
  {
   "cell_type": "code",
   "execution_count": 37,
   "metadata": {},
   "outputs": [
    {
     "data": {
      "text/html": [
       "100"
      ],
      "text/latex": [
       "100"
      ],
      "text/markdown": [
       "100"
      ],
      "text/plain": [
       "[1] 100"
      ]
     },
     "metadata": {},
     "output_type": "display_data"
    },
    {
     "data": {
      "text/html": [
       "<dl class=dl-horizontal>\n",
       "\t<dt>0</dt>\n",
       "\t\t<dd>72</dd>\n",
       "\t<dt>1</dt>\n",
       "\t\t<dd>28</dd>\n",
       "</dl>\n"
      ],
      "text/latex": [
       "\\begin{description*}\n",
       "\\item[0] 72\n",
       "\\item[1] 28\n",
       "\\end{description*}\n"
      ],
      "text/markdown": [
       "0\n",
       ":   721\n",
       ":   28\n",
       "\n"
      ],
      "text/plain": [
       " 0  1 \n",
       "72 28 "
      ]
     },
     "metadata": {},
     "output_type": "display_data"
    },
    {
     "data": {
      "text/plain": [
       "Confusion Matrix and Statistics\n",
       "\n",
       "          Reference\n",
       "Prediction  0  1\n",
       "         0 59 13\n",
       "         1  5 23\n",
       "                                          \n",
       "               Accuracy : 0.82            \n",
       "                 95% CI : (0.7305, 0.8897)\n",
       "    No Information Rate : 0.64            \n",
       "    P-Value [Acc > NIR] : 6.433e-05       \n",
       "                                          \n",
       "                  Kappa : 0.5894          \n",
       " Mcnemar's Test P-Value : 0.09896         \n",
       "                                          \n",
       "            Sensitivity : 0.9219          \n",
       "            Specificity : 0.6389          \n",
       "         Pos Pred Value : 0.8194          \n",
       "         Neg Pred Value : 0.8214          \n",
       "             Prevalence : 0.6400          \n",
       "         Detection Rate : 0.5900          \n",
       "   Detection Prevalence : 0.7200          \n",
       "      Balanced Accuracy : 0.7804          \n",
       "                                          \n",
       "       'Positive' Class : 0               \n",
       "                                          "
      ]
     },
     "metadata": {},
     "output_type": "display_data"
    }
   ],
   "source": [
    "results <- predict(fit, valid)\n",
    "length(results)\n",
    "summary(results)\n",
    "confusionMatrix(data = results, reference = valid$Survived)"
   ]
  },
  {
   "cell_type": "markdown",
   "metadata": {},
   "source": [
    "### Accuracy is > 80% on a validation set."
   ]
  },
  {
   "cell_type": "code",
   "execution_count": 38,
   "metadata": {},
   "outputs": [
    {
     "data": {},
     "metadata": {},
     "output_type": "display_data"
    },
    {
     "data": {
      "image/png": "[encoded data removed]",
      "text/plain": [
       "plot without title"
      ]
     },
     "metadata": {},
     "output_type": "display_data"
    }
   ],
   "source": [
    "plot(fit)"
   ]
  },
  {
   "cell_type": "code",
   "execution_count": 39,
   "metadata": {},
   "outputs": [
    {
     "data": {
      "text/html": [
       "418"
      ],
      "text/latex": [
       "418"
      ],
      "text/markdown": [
       "418"
      ],
      "text/plain": [
       "[1] 418"
      ]
     },
     "metadata": {},
     "output_type": "display_data"
    },
    {
     "data": {
      "text/html": [
       "418"
      ],
      "text/latex": [
       "418"
      ],
      "text/markdown": [
       "418"
      ],
      "text/plain": [
       "[1] 418"
      ]
     },
     "metadata": {},
     "output_type": "display_data"
    }
   ],
   "source": [
    "#making prediction on test set\n",
    "\n",
    "results <- predict(fit, test)\n",
    "length(results)\n",
    "length(test$Sex)"
   ]
  },
  {
   "cell_type": "code",
   "execution_count": 40,
   "metadata": {
    "collapsed": true
   },
   "outputs": [],
   "source": [
    "#Saving solution\n",
    "solution <- data.frame(PassengerID = test$PassengerId, Survived = results)\n",
    "\n",
    "# Write the solution to file\n",
    "write.csv(solution, file = 'SVM-Solution.csv',  row.names = F)"
   ]
  },
  {
   "cell_type": "markdown",
   "metadata": {},
   "source": [
    "## Reported Kaggle ranking Top 43%\n",
    "* Note: SVM algorithm works the best ewhen data is normalized (mean = 0 std = 1) I triyed that too using scale() function on all the columns except Survived. Didn't really make any difference in prediction Accuracy."
   ]
  },
  {
   "cell_type": "code",
   "execution_count": null,
   "metadata": {
    "collapsed": true
   },
   "outputs": [],
   "source": []
  }
 ],
 "metadata": {
  "kernelspec": {
   "display_name": "R",
   "language": "R",
   "name": "ir"
  },
  "language_info": {
   "codemirror_mode": "r",
   "file_extension": ".r",
   "mimetype": "text/x-r-source",
   "name": "R",
   "pygments_lexer": "r",
   "version": "3.3.2"
  }
 },
 "nbformat": 4,
 "nbformat_minor": 2
}
